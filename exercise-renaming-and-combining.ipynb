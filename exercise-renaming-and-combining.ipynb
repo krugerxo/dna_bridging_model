{
 "cells": [
  {
   "cell_type": "markdown",
   "id": "755f6b5e",
   "metadata": {
    "papermill": {
     "duration": 0.008768,
     "end_time": "2022-09-11T12:36:05.880364",
     "exception": false,
     "start_time": "2022-09-11T12:36:05.871596",
     "status": "completed"
    },
    "tags": []
   },
   "source": [
    "**This notebook is an exercise in the [Pandas](https://www.kaggle.com/learn/pandas) course.  You can reference the tutorial at [this link](https://www.kaggle.com/residentmario/renaming-and-combining).**\n",
    "\n",
    "---\n"
   ]
  },
  {
   "cell_type": "markdown",
   "id": "f531d0de",
   "metadata": {
    "papermill": {
     "duration": 0.007221,
     "end_time": "2022-09-11T12:36:05.894977",
     "exception": false,
     "start_time": "2022-09-11T12:36:05.887756",
     "status": "completed"
    },
    "tags": []
   },
   "source": [
    "# Introduction\n",
    "\n",
    "Run the following cell to load your data and some utility functions."
   ]
  },
  {
   "cell_type": "code",
   "execution_count": 1,
   "id": "1fd724fd",
   "metadata": {
    "execution": {
     "iopub.execute_input": "2022-09-11T12:36:05.909367Z",
     "iopub.status.busy": "2022-09-11T12:36:05.908556Z",
     "iopub.status.idle": "2022-09-11T12:36:09.922770Z",
     "shell.execute_reply": "2022-09-11T12:36:09.921473Z"
    },
    "papermill": {
     "duration": 4.024193,
     "end_time": "2022-09-11T12:36:09.925832",
     "exception": false,
     "start_time": "2022-09-11T12:36:05.901639",
     "status": "completed"
    },
    "tags": []
   },
   "outputs": [
    {
     "name": "stdout",
     "output_type": "stream",
     "text": [
      "Setup complete.\n"
     ]
    }
   ],
   "source": [
    "import pandas as pd\n",
    "\n",
    "reviews = pd.read_csv(\"../input/wine-reviews/winemag-data-130k-v2.csv\", index_col=0)\n",
    "\n",
    "from learntools.core import binder; binder.bind(globals())\n",
    "from learntools.pandas.renaming_and_combining import *\n",
    "print(\"Setup complete.\")"
   ]
  },
  {
   "cell_type": "markdown",
   "id": "0e865dba",
   "metadata": {
    "papermill": {
     "duration": 0.005087,
     "end_time": "2022-09-11T12:36:09.936495",
     "exception": false,
     "start_time": "2022-09-11T12:36:09.931408",
     "status": "completed"
    },
    "tags": []
   },
   "source": [
    "# Exercises\n",
    "\n",
    "View the first several lines of your data by running the cell below:"
   ]
  },
  {
   "cell_type": "code",
   "execution_count": 2,
   "id": "752c7881",
   "metadata": {
    "execution": {
     "iopub.execute_input": "2022-09-11T12:36:09.948783Z",
     "iopub.status.busy": "2022-09-11T12:36:09.948399Z",
     "iopub.status.idle": "2022-09-11T12:36:09.975503Z",
     "shell.execute_reply": "2022-09-11T12:36:09.974577Z"
    },
    "papermill": {
     "duration": 0.036111,
     "end_time": "2022-09-11T12:36:09.977955",
     "exception": false,
     "start_time": "2022-09-11T12:36:09.941844",
     "status": "completed"
    },
    "tags": []
   },
   "outputs": [
    {
     "data": {
      "text/html": [
       "<div>\n",
       "<style scoped>\n",
       "    .dataframe tbody tr th:only-of-type {\n",
       "        vertical-align: middle;\n",
       "    }\n",
       "\n",
       "    .dataframe tbody tr th {\n",
       "        vertical-align: top;\n",
       "    }\n",
       "\n",
       "    .dataframe thead th {\n",
       "        text-align: right;\n",
       "    }\n",
       "</style>\n",
       "<table border=\"1\" class=\"dataframe\">\n",
       "  <thead>\n",
       "    <tr style=\"text-align: right;\">\n",
       "      <th></th>\n",
       "      <th>country</th>\n",
       "      <th>description</th>\n",
       "      <th>designation</th>\n",
       "      <th>points</th>\n",
       "      <th>price</th>\n",
       "      <th>province</th>\n",
       "      <th>region_1</th>\n",
       "      <th>region_2</th>\n",
       "      <th>taster_name</th>\n",
       "      <th>taster_twitter_handle</th>\n",
       "      <th>title</th>\n",
       "      <th>variety</th>\n",
       "      <th>winery</th>\n",
       "    </tr>\n",
       "  </thead>\n",
       "  <tbody>\n",
       "    <tr>\n",
       "      <th>0</th>\n",
       "      <td>Italy</td>\n",
       "      <td>Aromas include tropical fruit, broom, brimston...</td>\n",
       "      <td>Vulkà Bianco</td>\n",
       "      <td>87</td>\n",
       "      <td>NaN</td>\n",
       "      <td>Sicily &amp; Sardinia</td>\n",
       "      <td>Etna</td>\n",
       "      <td>NaN</td>\n",
       "      <td>Kerin O’Keefe</td>\n",
       "      <td>@kerinokeefe</td>\n",
       "      <td>Nicosia 2013 Vulkà Bianco  (Etna)</td>\n",
       "      <td>White Blend</td>\n",
       "      <td>Nicosia</td>\n",
       "    </tr>\n",
       "    <tr>\n",
       "      <th>1</th>\n",
       "      <td>Portugal</td>\n",
       "      <td>This is ripe and fruity, a wine that is smooth...</td>\n",
       "      <td>Avidagos</td>\n",
       "      <td>87</td>\n",
       "      <td>15.0</td>\n",
       "      <td>Douro</td>\n",
       "      <td>NaN</td>\n",
       "      <td>NaN</td>\n",
       "      <td>Roger Voss</td>\n",
       "      <td>@vossroger</td>\n",
       "      <td>Quinta dos Avidagos 2011 Avidagos Red (Douro)</td>\n",
       "      <td>Portuguese Red</td>\n",
       "      <td>Quinta dos Avidagos</td>\n",
       "    </tr>\n",
       "    <tr>\n",
       "      <th>2</th>\n",
       "      <td>US</td>\n",
       "      <td>Tart and snappy, the flavors of lime flesh and...</td>\n",
       "      <td>NaN</td>\n",
       "      <td>87</td>\n",
       "      <td>14.0</td>\n",
       "      <td>Oregon</td>\n",
       "      <td>Willamette Valley</td>\n",
       "      <td>Willamette Valley</td>\n",
       "      <td>Paul Gregutt</td>\n",
       "      <td>@paulgwine</td>\n",
       "      <td>Rainstorm 2013 Pinot Gris (Willamette Valley)</td>\n",
       "      <td>Pinot Gris</td>\n",
       "      <td>Rainstorm</td>\n",
       "    </tr>\n",
       "    <tr>\n",
       "      <th>3</th>\n",
       "      <td>US</td>\n",
       "      <td>Pineapple rind, lemon pith and orange blossom ...</td>\n",
       "      <td>Reserve Late Harvest</td>\n",
       "      <td>87</td>\n",
       "      <td>13.0</td>\n",
       "      <td>Michigan</td>\n",
       "      <td>Lake Michigan Shore</td>\n",
       "      <td>NaN</td>\n",
       "      <td>Alexander Peartree</td>\n",
       "      <td>NaN</td>\n",
       "      <td>St. Julian 2013 Reserve Late Harvest Riesling ...</td>\n",
       "      <td>Riesling</td>\n",
       "      <td>St. Julian</td>\n",
       "    </tr>\n",
       "    <tr>\n",
       "      <th>4</th>\n",
       "      <td>US</td>\n",
       "      <td>Much like the regular bottling from 2012, this...</td>\n",
       "      <td>Vintner's Reserve Wild Child Block</td>\n",
       "      <td>87</td>\n",
       "      <td>65.0</td>\n",
       "      <td>Oregon</td>\n",
       "      <td>Willamette Valley</td>\n",
       "      <td>Willamette Valley</td>\n",
       "      <td>Paul Gregutt</td>\n",
       "      <td>@paulgwine</td>\n",
       "      <td>Sweet Cheeks 2012 Vintner's Reserve Wild Child...</td>\n",
       "      <td>Pinot Noir</td>\n",
       "      <td>Sweet Cheeks</td>\n",
       "    </tr>\n",
       "  </tbody>\n",
       "</table>\n",
       "</div>"
      ],
      "text/plain": [
       "    country                                        description  \\\n",
       "0     Italy  Aromas include tropical fruit, broom, brimston...   \n",
       "1  Portugal  This is ripe and fruity, a wine that is smooth...   \n",
       "2        US  Tart and snappy, the flavors of lime flesh and...   \n",
       "3        US  Pineapple rind, lemon pith and orange blossom ...   \n",
       "4        US  Much like the regular bottling from 2012, this...   \n",
       "\n",
       "                          designation  points  price           province  \\\n",
       "0                        Vulkà Bianco      87    NaN  Sicily & Sardinia   \n",
       "1                            Avidagos      87   15.0              Douro   \n",
       "2                                 NaN      87   14.0             Oregon   \n",
       "3                Reserve Late Harvest      87   13.0           Michigan   \n",
       "4  Vintner's Reserve Wild Child Block      87   65.0             Oregon   \n",
       "\n",
       "              region_1           region_2         taster_name  \\\n",
       "0                 Etna                NaN       Kerin O’Keefe   \n",
       "1                  NaN                NaN          Roger Voss   \n",
       "2    Willamette Valley  Willamette Valley        Paul Gregutt   \n",
       "3  Lake Michigan Shore                NaN  Alexander Peartree   \n",
       "4    Willamette Valley  Willamette Valley        Paul Gregutt   \n",
       "\n",
       "  taster_twitter_handle                                              title  \\\n",
       "0          @kerinokeefe                  Nicosia 2013 Vulkà Bianco  (Etna)   \n",
       "1            @vossroger      Quinta dos Avidagos 2011 Avidagos Red (Douro)   \n",
       "2           @paulgwine       Rainstorm 2013 Pinot Gris (Willamette Valley)   \n",
       "3                   NaN  St. Julian 2013 Reserve Late Harvest Riesling ...   \n",
       "4           @paulgwine   Sweet Cheeks 2012 Vintner's Reserve Wild Child...   \n",
       "\n",
       "          variety               winery  \n",
       "0     White Blend              Nicosia  \n",
       "1  Portuguese Red  Quinta dos Avidagos  \n",
       "2      Pinot Gris            Rainstorm  \n",
       "3        Riesling           St. Julian  \n",
       "4      Pinot Noir         Sweet Cheeks  "
      ]
     },
     "execution_count": 2,
     "metadata": {},
     "output_type": "execute_result"
    }
   ],
   "source": [
    "reviews.head()"
   ]
  },
  {
   "cell_type": "markdown",
   "id": "327a24bd",
   "metadata": {
    "papermill": {
     "duration": 0.005438,
     "end_time": "2022-09-11T12:36:09.989699",
     "exception": false,
     "start_time": "2022-09-11T12:36:09.984261",
     "status": "completed"
    },
    "tags": []
   },
   "source": [
    "## 1.\n",
    "`region_1` and `region_2` are pretty uninformative names for locale columns in the dataset. Create a copy of `reviews` with these columns renamed to `region` and `locale`, respectively."
   ]
  },
  {
   "cell_type": "code",
   "execution_count": 3,
   "id": "04a19b51",
   "metadata": {
    "execution": {
     "iopub.execute_input": "2022-09-11T12:36:10.003033Z",
     "iopub.status.busy": "2022-09-11T12:36:10.002257Z",
     "iopub.status.idle": "2022-09-11T12:36:10.072261Z",
     "shell.execute_reply": "2022-09-11T12:36:10.071181Z"
    },
    "papermill": {
     "duration": 0.079286,
     "end_time": "2022-09-11T12:36:10.074593",
     "exception": false,
     "start_time": "2022-09-11T12:36:09.995307",
     "status": "completed"
    },
    "tags": []
   },
   "outputs": [
    {
     "data": {
      "application/javascript": [
       "parent.postMessage({\"jupyterEvent\": \"custom.exercise_interaction\", \"data\": {\"outcomeType\": 1, \"valueTowardsCompletion\": 0.25, \"interactionType\": 1, \"questionType\": 1, \"questionId\": \"1_RenameCols\", \"learnToolsVersion\": \"0.3.4\", \"failureMessage\": \"\", \"exceptionClass\": \"\", \"trace\": \"\"}}, \"*\")"
      ],
      "text/plain": [
       "<IPython.core.display.Javascript object>"
      ]
     },
     "metadata": {},
     "output_type": "display_data"
    },
    {
     "data": {
      "text/markdown": [
       "<span style=\"color:#33cc33\">Correct</span>"
      ],
      "text/plain": [
       "Correct"
      ]
     },
     "metadata": {},
     "output_type": "display_data"
    }
   ],
   "source": [
    "# Your code here\n",
    "renamed = reviews.rename(columns={'region_1':'region'}).rename(columns = {'region_2':'locale'})\n",
    "\n",
    "# Check your answer\n",
    "q1.check()"
   ]
  },
  {
   "cell_type": "code",
   "execution_count": 4,
   "id": "227fcdb7",
   "metadata": {
    "execution": {
     "iopub.execute_input": "2022-09-11T12:36:10.088192Z",
     "iopub.status.busy": "2022-09-11T12:36:10.087743Z",
     "iopub.status.idle": "2022-09-11T12:36:10.091558Z",
     "shell.execute_reply": "2022-09-11T12:36:10.090740Z"
    },
    "papermill": {
     "duration": 0.013084,
     "end_time": "2022-09-11T12:36:10.093559",
     "exception": false,
     "start_time": "2022-09-11T12:36:10.080475",
     "status": "completed"
    },
    "tags": []
   },
   "outputs": [],
   "source": [
    "#q1.hint()\n",
    "#q1.solution()"
   ]
  },
  {
   "cell_type": "markdown",
   "id": "6d0331e0",
   "metadata": {
    "papermill": {
     "duration": 0.006067,
     "end_time": "2022-09-11T12:36:10.105662",
     "exception": false,
     "start_time": "2022-09-11T12:36:10.099595",
     "status": "completed"
    },
    "tags": []
   },
   "source": [
    "## 2.\n",
    "Set the index name in the dataset to `wines`."
   ]
  },
  {
   "cell_type": "code",
   "execution_count": 5,
   "id": "6084de68",
   "metadata": {
    "execution": {
     "iopub.execute_input": "2022-09-11T12:36:10.119895Z",
     "iopub.status.busy": "2022-09-11T12:36:10.118781Z",
     "iopub.status.idle": "2022-09-11T12:36:10.148690Z",
     "shell.execute_reply": "2022-09-11T12:36:10.147477Z"
    },
    "papermill": {
     "duration": 0.039736,
     "end_time": "2022-09-11T12:36:10.151332",
     "exception": false,
     "start_time": "2022-09-11T12:36:10.111596",
     "status": "completed"
    },
    "tags": []
   },
   "outputs": [
    {
     "data": {
      "application/javascript": [
       "parent.postMessage({\"jupyterEvent\": \"custom.exercise_interaction\", \"data\": {\"outcomeType\": 1, \"valueTowardsCompletion\": 0.25, \"interactionType\": 1, \"questionType\": 1, \"questionId\": \"2_RenameIndex\", \"learnToolsVersion\": \"0.3.4\", \"failureMessage\": \"\", \"exceptionClass\": \"\", \"trace\": \"\"}}, \"*\")"
      ],
      "text/plain": [
       "<IPython.core.display.Javascript object>"
      ]
     },
     "metadata": {},
     "output_type": "display_data"
    },
    {
     "data": {
      "text/markdown": [
       "<span style=\"color:#33cc33\">Correct</span>"
      ],
      "text/plain": [
       "Correct"
      ]
     },
     "metadata": {},
     "output_type": "display_data"
    }
   ],
   "source": [
    "reindexed = reviews.rename_axis(\"wines\" ,axis='rows')\n",
    "\n",
    "# Check your answer\n",
    "q2.check()"
   ]
  },
  {
   "cell_type": "code",
   "execution_count": 6,
   "id": "225f4339",
   "metadata": {
    "execution": {
     "iopub.execute_input": "2022-09-11T12:36:10.165637Z",
     "iopub.status.busy": "2022-09-11T12:36:10.165261Z",
     "iopub.status.idle": "2022-09-11T12:36:10.169797Z",
     "shell.execute_reply": "2022-09-11T12:36:10.168716Z"
    },
    "papermill": {
     "duration": 0.014692,
     "end_time": "2022-09-11T12:36:10.172165",
     "exception": false,
     "start_time": "2022-09-11T12:36:10.157473",
     "status": "completed"
    },
    "tags": []
   },
   "outputs": [],
   "source": [
    "#q2.hint()\n",
    "#q2.solution()"
   ]
  },
  {
   "cell_type": "markdown",
   "id": "1c3af6b6",
   "metadata": {
    "papermill": {
     "duration": 0.005967,
     "end_time": "2022-09-11T12:36:10.184494",
     "exception": false,
     "start_time": "2022-09-11T12:36:10.178527",
     "status": "completed"
    },
    "tags": []
   },
   "source": [
    "## 3.\n",
    "The [Things on Reddit](https://www.kaggle.com/residentmario/things-on-reddit/data) dataset includes product links from a selection of top-ranked forums (\"subreddits\") on reddit.com. Run the cell below to load a dataframe of products mentioned on the */r/gaming* subreddit and another dataframe for products mentioned on the *r//movies* subreddit."
   ]
  },
  {
   "cell_type": "code",
   "execution_count": 7,
   "id": "b409aa65",
   "metadata": {
    "execution": {
     "iopub.execute_input": "2022-09-11T12:36:10.200444Z",
     "iopub.status.busy": "2022-09-11T12:36:10.200048Z",
     "iopub.status.idle": "2022-09-11T12:36:10.215860Z",
     "shell.execute_reply": "2022-09-11T12:36:10.214857Z"
    },
    "papermill": {
     "duration": 0.027549,
     "end_time": "2022-09-11T12:36:10.218374",
     "exception": false,
     "start_time": "2022-09-11T12:36:10.190825",
     "status": "completed"
    },
    "tags": []
   },
   "outputs": [],
   "source": [
    "gaming_products = pd.read_csv(\"../input/things-on-reddit/top-things/top-things/reddits/g/gaming.csv\")\n",
    "gaming_products['subreddit'] = \"r/gaming\"\n",
    "movie_products = pd.read_csv(\"../input/things-on-reddit/top-things/top-things/reddits/m/movies.csv\")\n",
    "movie_products['subreddit'] = \"r/movies\""
   ]
  },
  {
   "cell_type": "markdown",
   "id": "1c929cd7",
   "metadata": {
    "papermill": {
     "duration": 0.006671,
     "end_time": "2022-09-11T12:36:10.231521",
     "exception": false,
     "start_time": "2022-09-11T12:36:10.224850",
     "status": "completed"
    },
    "tags": []
   },
   "source": [
    "Create a `DataFrame` of products mentioned on *either* subreddit."
   ]
  },
  {
   "cell_type": "code",
   "execution_count": 8,
   "id": "c39d55f9",
   "metadata": {
    "execution": {
     "iopub.execute_input": "2022-09-11T12:36:10.245558Z",
     "iopub.status.busy": "2022-09-11T12:36:10.245184Z",
     "iopub.status.idle": "2022-09-11T12:36:10.258798Z",
     "shell.execute_reply": "2022-09-11T12:36:10.257620Z"
    },
    "papermill": {
     "duration": 0.023371,
     "end_time": "2022-09-11T12:36:10.260965",
     "exception": false,
     "start_time": "2022-09-11T12:36:10.237594",
     "status": "completed"
    },
    "tags": []
   },
   "outputs": [
    {
     "data": {
      "application/javascript": [
       "parent.postMessage({\"jupyterEvent\": \"custom.exercise_interaction\", \"data\": {\"outcomeType\": 1, \"valueTowardsCompletion\": 0.25, \"interactionType\": 1, \"questionType\": 2, \"questionId\": \"3_ConcatReddit\", \"learnToolsVersion\": \"0.3.4\", \"failureMessage\": \"\", \"exceptionClass\": \"\", \"trace\": \"\"}}, \"*\")"
      ],
      "text/plain": [
       "<IPython.core.display.Javascript object>"
      ]
     },
     "metadata": {},
     "output_type": "display_data"
    },
    {
     "data": {
      "text/markdown": [
       "<span style=\"color:#33cc33\">Correct</span>"
      ],
      "text/plain": [
       "Correct"
      ]
     },
     "metadata": {},
     "output_type": "display_data"
    }
   ],
   "source": [
    "combined_products = pd.concat([gaming_products,movie_products])\n",
    "\n",
    "# Check your answer\n",
    "q3.check()"
   ]
  },
  {
   "cell_type": "code",
   "execution_count": 9,
   "id": "eaec2811",
   "metadata": {
    "execution": {
     "iopub.execute_input": "2022-09-11T12:36:10.275183Z",
     "iopub.status.busy": "2022-09-11T12:36:10.274782Z",
     "iopub.status.idle": "2022-09-11T12:36:10.279330Z",
     "shell.execute_reply": "2022-09-11T12:36:10.278156Z"
    },
    "papermill": {
     "duration": 0.014202,
     "end_time": "2022-09-11T12:36:10.281471",
     "exception": false,
     "start_time": "2022-09-11T12:36:10.267269",
     "status": "completed"
    },
    "tags": []
   },
   "outputs": [],
   "source": [
    "#q3.hint()\n",
    "#q3.solution()"
   ]
  },
  {
   "cell_type": "markdown",
   "id": "2eca21e5",
   "metadata": {
    "papermill": {
     "duration": 0.006081,
     "end_time": "2022-09-11T12:36:10.294138",
     "exception": false,
     "start_time": "2022-09-11T12:36:10.288057",
     "status": "completed"
    },
    "tags": []
   },
   "source": [
    "## 4.\n",
    "The [Powerlifting Database](https://www.kaggle.com/open-powerlifting/powerlifting-database) dataset on Kaggle includes one CSV table for powerlifting meets and a separate one for powerlifting competitors. Run the cell below to load these datasets into dataframes:"
   ]
  },
  {
   "cell_type": "code",
   "execution_count": 10,
   "id": "25de0b30",
   "metadata": {
    "execution": {
     "iopub.execute_input": "2022-09-11T12:36:10.308564Z",
     "iopub.status.busy": "2022-09-11T12:36:10.308191Z",
     "iopub.status.idle": "2022-09-11T12:36:11.053469Z",
     "shell.execute_reply": "2022-09-11T12:36:11.052513Z"
    },
    "papermill": {
     "duration": 0.755557,
     "end_time": "2022-09-11T12:36:11.056039",
     "exception": false,
     "start_time": "2022-09-11T12:36:10.300482",
     "status": "completed"
    },
    "tags": []
   },
   "outputs": [],
   "source": [
    "powerlifting_meets = pd.read_csv(\"../input/powerlifting-database/meets.csv\")\n",
    "powerlifting_competitors = pd.read_csv(\"../input/powerlifting-database/openpowerlifting.csv\")"
   ]
  },
  {
   "cell_type": "markdown",
   "id": "23206736",
   "metadata": {
    "papermill": {
     "duration": 0.006443,
     "end_time": "2022-09-11T12:36:11.069111",
     "exception": false,
     "start_time": "2022-09-11T12:36:11.062668",
     "status": "completed"
    },
    "tags": []
   },
   "source": [
    "Both tables include references to a `MeetID`, a unique key for each meet (competition) included in the database. Using this, generate a dataset combining the two tables into one."
   ]
  },
  {
   "cell_type": "code",
   "execution_count": 11,
   "id": "32d54590",
   "metadata": {
    "execution": {
     "iopub.execute_input": "2022-09-11T12:36:11.083670Z",
     "iopub.status.busy": "2022-09-11T12:36:11.083279Z",
     "iopub.status.idle": "2022-09-11T12:36:12.145037Z",
     "shell.execute_reply": "2022-09-11T12:36:12.144212Z"
    },
    "papermill": {
     "duration": 1.071799,
     "end_time": "2022-09-11T12:36:12.147364",
     "exception": false,
     "start_time": "2022-09-11T12:36:11.075565",
     "status": "completed"
    },
    "tags": []
   },
   "outputs": [
    {
     "data": {
      "application/javascript": [
       "parent.postMessage({\"jupyterEvent\": \"custom.exercise_interaction\", \"data\": {\"outcomeType\": 1, \"valueTowardsCompletion\": 0.25, \"interactionType\": 1, \"questionType\": 2, \"questionId\": \"4_JoinLifting\", \"learnToolsVersion\": \"0.3.4\", \"failureMessage\": \"\", \"exceptionClass\": \"\", \"trace\": \"\"}}, \"*\")"
      ],
      "text/plain": [
       "<IPython.core.display.Javascript object>"
      ]
     },
     "metadata": {},
     "output_type": "display_data"
    },
    {
     "data": {
      "text/markdown": [
       "<span style=\"color:#33cc33\">Correct</span>"
      ],
      "text/plain": [
       "Correct"
      ]
     },
     "metadata": {},
     "output_type": "display_data"
    }
   ],
   "source": [
    "left = powerlifting_meets.set_index(['MeetID'])\n",
    "right = powerlifting_competitors.set_index(['MeetID'])\n",
    "powerlifting_combined = left.join(right)\n",
    "\n",
    "\n",
    "# Check your answer\n",
    "q4.check()"
   ]
  },
  {
   "cell_type": "code",
   "execution_count": null,
   "id": "2dc2154b",
   "metadata": {
    "execution": {
     "iopub.execute_input": "2022-09-11T12:34:34.920553Z",
     "iopub.status.busy": "2022-09-11T12:34:34.920048Z",
     "iopub.status.idle": "2022-09-11T12:34:34.928753Z",
     "shell.execute_reply": "2022-09-11T12:34:34.927268Z",
     "shell.execute_reply.started": "2022-09-11T12:34:34.920514Z"
    },
    "papermill": {
     "duration": 0.006374,
     "end_time": "2022-09-11T12:36:12.160373",
     "exception": false,
     "start_time": "2022-09-11T12:36:12.153999",
     "status": "completed"
    },
    "tags": []
   },
   "outputs": [],
   "source": []
  },
  {
   "cell_type": "code",
   "execution_count": 12,
   "id": "5f0ad56c",
   "metadata": {
    "execution": {
     "iopub.execute_input": "2022-09-11T12:36:12.175409Z",
     "iopub.status.busy": "2022-09-11T12:36:12.174650Z",
     "iopub.status.idle": "2022-09-11T12:36:12.179588Z",
     "shell.execute_reply": "2022-09-11T12:36:12.178430Z"
    },
    "papermill": {
     "duration": 0.015195,
     "end_time": "2022-09-11T12:36:12.182024",
     "exception": false,
     "start_time": "2022-09-11T12:36:12.166829",
     "status": "completed"
    },
    "tags": []
   },
   "outputs": [],
   "source": [
    "#q4.hint()\n",
    "#q4.solution()"
   ]
  },
  {
   "cell_type": "markdown",
   "id": "e1f89bba",
   "metadata": {
    "papermill": {
     "duration": 0.00654,
     "end_time": "2022-09-11T12:36:12.195216",
     "exception": false,
     "start_time": "2022-09-11T12:36:12.188676",
     "status": "completed"
    },
    "tags": []
   },
   "source": [
    "# Congratulations!\n",
    "\n",
    "You've finished the Pandas micro-course.  Many data scientists feel efficiency with Pandas is the most useful and practical skill they have, because it allows you to progress quickly in any project you have.\n",
    "\n",
    "If you'd like to apply your new skills to examining geospatial data, you're encouraged to check out our **[Geospatial Analysis](https://www.kaggle.com/learn/geospatial-analysis)** micro-course.\n",
    "\n",
    "You can also take advantage of your Pandas skills by entering a **[Kaggle Competition](https://www.kaggle.com/competitions)** or by answering a question you find interesting using **[Kaggle Datasets](https://www.kaggle.com/datasets)**."
   ]
  },
  {
   "cell_type": "markdown",
   "id": "d22ad17d",
   "metadata": {
    "papermill": {
     "duration": 0.006399,
     "end_time": "2022-09-11T12:36:12.208392",
     "exception": false,
     "start_time": "2022-09-11T12:36:12.201993",
     "status": "completed"
    },
    "tags": []
   },
   "source": [
    "---\n",
    "\n",
    "\n",
    "\n",
    "\n",
    "*Have questions or comments? Visit the [course discussion forum](https://www.kaggle.com/learn/pandas/discussion) to chat with other learners.*"
   ]
  }
 ],
 "metadata": {
  "kernelspec": {
   "display_name": "Python 3",
   "language": "python",
   "name": "python3"
  },
  "language_info": {
   "codemirror_mode": {
    "name": "ipython",
    "version": 3
   },
   "file_extension": ".py",
   "mimetype": "text/x-python",
   "name": "python",
   "nbconvert_exporter": "python",
   "pygments_lexer": "ipython3",
   "version": "3.7.12"
  },
  "papermill": {
   "default_parameters": {},
   "duration": 16.0615,
   "end_time": "2022-09-11T12:36:13.038540",
   "environment_variables": {},
   "exception": null,
   "input_path": "__notebook__.ipynb",
   "output_path": "__notebook__.ipynb",
   "parameters": {},
   "start_time": "2022-09-11T12:35:56.977040",
   "version": "2.3.4"
  }
 },
 "nbformat": 4,
 "nbformat_minor": 5
}
